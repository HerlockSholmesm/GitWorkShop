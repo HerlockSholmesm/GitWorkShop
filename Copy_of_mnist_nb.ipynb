{
  "nbformat": 4,
  "nbformat_minor": 0,
  "metadata": {
    "kernelspec": {
      "display_name": "Python 3",
      "language": "python",
      "name": "python3"
    },
    "language_info": {
      "codemirror_mode": {
        "name": "ipython",
        "version": 3
      },
      "file_extension": ".py",
      "mimetype": "text/x-python",
      "name": "python",
      "nbconvert_exporter": "python",
      "pygments_lexer": "ipython3",
      "version": "3.7.4"
    },
    "colab": {
      "name": "Copy of mnist-nb.ipynb",
      "provenance": [],
      "collapsed_sections": [],
      "include_colab_link": true
    }
  },
  "cells": [
    {
      "cell_type": "markdown",
      "metadata": {
        "id": "view-in-github",
        "colab_type": "text"
      },
      "source": [
        "<a href=\"https://colab.research.google.com/github/abolfazlrahimi/GitWorkShop/blob/master/Copy_of_mnist_nb.ipynb\" target=\"_parent\"><img src=\"https://colab.research.google.com/assets/colab-badge.svg\" alt=\"Open In Colab\"/></a>"
      ]
    },
    {
      "cell_type": "markdown",
      "metadata": {
        "id": "ETw5dmAoEJ8b",
        "colab_type": "text"
      },
      "source": [
        "# Naive Bayesian Networks\n",
        "#### Image Classification\n",
        "##### MNIST - Hand Written Digits"
      ]
    },
    {
      "cell_type": "markdown",
      "metadata": {
        "id": "WJyWj_diEJ8e",
        "colab_type": "text"
      },
      "source": [
        "**Name** : seyyed abolfazl rahimi \n"
      ]
    },
    {
      "cell_type": "markdown",
      "metadata": {
        "id": "sHnlYxpREJ8g",
        "colab_type": "text"
      },
      "source": [
        "**Student ID** : 97105941\n",
        "\n"
      ]
    },
    {
      "cell_type": "markdown",
      "metadata": {
        "id": "5FSh_Dv9EJ8j",
        "colab_type": "text"
      },
      "source": [
        "**Sources:**\n",
        "<hr>"
      ]
    },
    {
      "cell_type": "markdown",
      "metadata": {
        "id": "OQQxL8MaEJ8l",
        "colab_type": "text"
      },
      "source": [
        "### Installing Dependencies"
      ]
    },
    {
      "cell_type": "markdown",
      "metadata": {
        "id": "ag993kDwEJ8n",
        "colab_type": "text"
      },
      "source": [
        "`torchvision` is installed and used for loading the dataset. If you are not comfortable using torch and numpy, feel free to implement your own dataloader. "
      ]
    },
    {
      "cell_type": "code",
      "metadata": {
        "id": "MH4FxvdbEJ8p",
        "colab_type": "code",
        "colab": {
          "base_uri": "https://localhost:8080/",
          "height": 151
        },
        "outputId": "07134674-3d5c-4e72-ae08-72ccbadb5e76"
      },
      "source": [
        "!pip install torchvision\n",
        "!pip install numpy\n",
        "!pip install scipy\n",
        "\n",
        "# and other libraries you might need"
      ],
      "execution_count": 30,
      "outputs": [
        {
          "output_type": "stream",
          "text": [
            "Requirement already satisfied: torchvision in /usr/local/lib/python3.6/dist-packages (0.6.0+cu101)\n",
            "Requirement already satisfied: torch==1.5.0 in /usr/local/lib/python3.6/dist-packages (from torchvision) (1.5.0+cu101)\n",
            "Requirement already satisfied: pillow>=4.1.1 in /usr/local/lib/python3.6/dist-packages (from torchvision) (7.0.0)\n",
            "Requirement already satisfied: numpy in /usr/local/lib/python3.6/dist-packages (from torchvision) (1.18.5)\n",
            "Requirement already satisfied: future in /usr/local/lib/python3.6/dist-packages (from torch==1.5.0->torchvision) (0.16.0)\n",
            "Requirement already satisfied: numpy in /usr/local/lib/python3.6/dist-packages (1.18.5)\n",
            "Requirement already satisfied: scipy in /usr/local/lib/python3.6/dist-packages (1.4.1)\n",
            "Requirement already satisfied: numpy>=1.13.3 in /usr/local/lib/python3.6/dist-packages (from scipy) (1.18.5)\n"
          ],
          "name": "stdout"
        }
      ]
    },
    {
      "cell_type": "markdown",
      "metadata": {
        "id": "0iI5NV7ZEJ8z",
        "colab_type": "text"
      },
      "source": [
        "### Importing Libraries"
      ]
    },
    {
      "cell_type": "code",
      "metadata": {
        "id": "auwwszUJEJ80",
        "colab_type": "code",
        "colab": {}
      },
      "source": [
        "from torchvision import datasets\n",
        "import numpy as np\n",
        "from scipy import stats\n",
        "import math"
      ],
      "execution_count": 38,
      "outputs": []
    },
    {
      "cell_type": "markdown",
      "metadata": {
        "id": "KrxrhR1lEJ89",
        "colab_type": "text"
      },
      "source": [
        "<hr>"
      ]
    },
    {
      "cell_type": "markdown",
      "metadata": {
        "id": "6hNRLlY9EJ8_",
        "colab_type": "text"
      },
      "source": [
        "### Loading Data"
      ]
    },
    {
      "cell_type": "markdown",
      "metadata": {
        "id": "IhsfL7OCEJ9B",
        "colab_type": "text"
      },
      "source": [
        "`train_data` & `test_data` variables will hold an [MNIST dataset object](https://pytorch.org/docs/stable/torchvision/datasets.html#mnist) which can be used just like a normal list of `(image <PIL type>, label <integer>)` in python.\n",
        "\n",
        "In summery, it is possible to loop through the data like:\n",
        "```python\n",
        "for image, label in train_data:\n",
        "    image = np.array(image) # convert PIL image to numpy array\n",
        "    # your code here\n",
        "```\n",
        "or access single datapoints like `image, label = train_data[i]`.`len(train_data)` can be used to get the number training points."
      ]
    },
    {
      "cell_type": "code",
      "metadata": {
        "id": "v7KDPwnDEJ9C",
        "colab_type": "code",
        "colab": {}
      },
      "source": [
        "train_data = datasets.MNIST('./data', train=True, download=True)\n",
        "test_data  = datasets.MNIST('./data', train=False, download=True)"
      ],
      "execution_count": 33,
      "outputs": []
    },
    {
      "cell_type": "code",
      "metadata": {
        "id": "qr2ZFq_6Hn0a",
        "colab_type": "code",
        "colab": {}
      },
      "source": [
        "## we used naive bayes with lablace smoothing.\n",
        "pixels = np.full((10, 784), 10.0)\n",
        "size = np.full(10, 100.0)\n",
        "for img, lbl in train_data:\n",
        "  img = np.array(img)\n",
        "  img[img > 0] = 1.0\n",
        "  img = img.ravel()\n",
        "  for q in range(784):\n",
        "    pixels[lbl][q] += img[q]\n",
        "  size[lbl] += 1\n",
        "for i in range(10):\n",
        "  for q in range(784):\n",
        "    pixels[i][q] = pixels[i][q]/size[i] \n",
        "\n"
      ],
      "execution_count": 60,
      "outputs": []
    },
    {
      "cell_type": "markdown",
      "metadata": {
        "id": "Ht4iojTOEJ9W",
        "colab_type": "text"
      },
      "source": [
        "### Evaluating Model"
      ]
    },
    {
      "cell_type": "code",
      "metadata": {
        "id": "W3jF1ogqEJ9Y",
        "colab_type": "code",
        "colab": {
          "base_uri": "https://localhost:8080/",
          "height": 34
        },
        "outputId": "382f8a97-2a0b-4ba6-a4d7-caf5a302726d"
      },
      "source": [
        "# for you to implement\n",
        "accuracy = 0\n",
        "for img, lbl in test_data:\n",
        "  img = np.array(img)\n",
        "  img[img > 0] = 1\n",
        "  img = img.ravel()\n",
        "  predict = np.zeros(10)\n",
        "  for i in range(10):\n",
        "    for q in range(784):\n",
        "      if img[q] == 1:\n",
        "        predict[i] += math.log10(pixels[i, q])\n",
        "      else:\n",
        "        predict[i] += math.log10(1 - pixels[i, q])\n",
        "  p = predict.argmax()\n",
        "  if p==lbl:\n",
        "    accuracy += 1\n",
        "\n",
        "print(accuracy/len(test_data))"
      ],
      "execution_count": 61,
      "outputs": [
        {
          "output_type": "stream",
          "text": [
            "0.8388\n"
          ],
          "name": "stdout"
        }
      ]
    }
  ]
}